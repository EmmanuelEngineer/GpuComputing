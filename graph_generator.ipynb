{
 "cells": [
  {
   "cell_type": "code",
   "execution_count": 1,
   "metadata": {},
   "outputs": [],
   "source": [
    "def file_paths(dataset_directory):\n",
    "    import glob\n",
    "    paths =[]\n",
    "    for x in glob.iglob(dataset_directory + \"*.txt\"):\n",
    "        paths.append(x)\n",
    "    return paths"
   ]
  },
  {
   "cell_type": "code",
   "execution_count": 2,
   "metadata": {},
   "outputs": [],
   "source": [
    "def file_properties(path):\n",
    "    import re\n",
    "    list_of_matches = re.findall(\"out_(\\d+)_(\\d+)_(\\d+)_(\\d+).txt\", path)\n",
    "    arr = list_of_matches.pop()\n",
    "    return int(arr[0]),int(arr[1]),int(arr[2]),int(arr[3])"
   ]
  },
  {
   "cell_type": "code",
   "execution_count": 3,
   "metadata": {},
   "outputs": [],
   "source": [
    "def file_reader(str):\n",
    "    import re\n",
    "    list_of_matches = re.findall(\"(........) seconds\", str)\n",
    "    arr = list_of_matches.pop()\n",
    "    return float(arr)"
   ]
  },
  {
   "cell_type": "code",
   "execution_count": 5,
   "metadata": {},
   "outputs": [
    {
     "name": "stdout",
     "output_type": "stream",
     "text": [
      "[[4, 3, 2, 2, 1.7e-05], [4, 2, 0, 0, 4.1e-05], [5, 1, 1, 2, 0.000191], [1, 1, 0, 1, 1e-06], [2, 3, 0, 1, 2e-06], [4, 3, 2, 0, 4.1e-05], [2, 3, 0, 3, 1e-06], [2, 1, 0, 3, 1e-06], [5, 2, 2, 0, 0.000207], [4, 1, 2, 1, 3.3e-05], [1, 2, 0, 0, 4e-06], [3, 2, 0, 0, 1.5e-05], [4, 2, 2, 0, 5.4e-05], [5, 1, 1, 3, 0.000148], [4, 1, 2, 0, 7.4e-05], [5, 1, 0, 2, 9.8e-05], [1, 1, 0, 3, 1e-06], [3, 2, 2, 0, 1.3e-05], [5, 1, 2, 1, 0.000275], [5, 2, 1, 1, 0.000187], [4, 1, 0, 1, 4.5e-05], [1, 2, 2, 1, 1e-06], [3, 1, 2, 3, 5e-06], [3, 2, 0, 3, 2e-06], [2, 2, 1, 2, 2e-06], [3, 1, 1, 3, 6e-06], [4, 2, 2, 3, 2.4e-05], [3, 3, 1, 1, 1e-05], [2, 2, 2, 2, 2e-06], [3, 3, 2, 1, 7e-06], [5, 1, 0, 3, 0.000112], [5, 3, 1, 1, 0.000134], [2, 2, 0, 0, 5e-06], [4, 1, 1, 3, 3.3e-05], [3, 2, 2, 3, 7e-06], [5, 2, 2, 2, 0.000177], [1, 3, 1, 0, 0.0], [1, 1, 2, 3, 1e-06], [4, 1, 0, 2, 1.4e-05], [3, 1, 2, 1, 5e-06], [4, 2, 2, 1, 4.5e-05], [1, 2, 1, 2, 4e-06], [1, 3, 0, 0, 2e-06], [3, 2, 0, 2, 3e-06], [1, 2, 2, 3, 1e-06], [3, 3, 2, 2, 3e-06], [4, 2, 2, 2, 1.6e-05], [3, 3, 2, 0, 8e-06], [5, 1, 2, 3, 0.000116], [2, 3, 1, 0, 2e-06], [4, 1, 1, 0, 2.2e-05], [4, 3, 0, 0, 3.1e-05], [2, 3, 2, 2, 1e-06], [2, 3, 0, 0, 6e-06], [3, 3, 0, 2, 4e-06], [1, 2, 0, 3, 2e-06], [3, 1, 1, 0, 3e-06], [1, 3, 1, 3, 1e-06], [3, 3, 1, 0, 4e-06], [4, 3, 1, 0, 2.7e-05], [4, 2, 0, 1, 4.6e-05], [1, 1, 1, 1, 2e-06], [1, 3, 2, 2, 1e-06], [2, 2, 1, 3, 2e-06], [4, 1, 1, 2, 6e-05], [1, 2, 1, 0, 1e-06], [5, 1, 2, 0, 0.000245], [2, 1, 2, 0, 5e-06], [5, 2, 1, 3, 0.000149], [5, 3, 2, 1, 0.000232], [4, 2, 0, 3, 1.3e-05], [1, 1, 0, 0, 2e-06], [2, 3, 0, 2, 1e-06], [4, 3, 0, 2, 1.9e-05], [5, 3, 1, 2, 0.000158], [4, 2, 1, 1, 4.5e-05], [1, 2, 1, 3, 2e-06], [4, 1, 0, 3, 1.3e-05], [3, 1, 0, 0, 1.6e-05], [3, 2, 2, 1, 6e-06], [3, 2, 1, 3, 6e-06], [3, 1, 2, 2, 3e-06], [5, 3, 0, 2, 7.2e-05], [5, 1, 2, 2, 0.000143], [2, 2, 1, 0, 1e-06], [5, 2, 2, 3, 0.000127], [5, 3, 0, 0, 0.000171], [3, 1, 0, 1, 3e-06], [3, 2, 1, 1, 6e-06], [5, 1, 1, 0, 0.000256], [3, 1, 0, 2, 4e-06], [4, 1, 2, 3, 6.1e-05], [5, 2, 0, 1, 0.000268], [1, 2, 1, 1, 2e-06], [4, 1, 2, 2, 1.5e-05], [4, 3, 0, 3, 1.4e-05], [1, 1, 1, 2, 4e-06], [3, 3, 1, 2, 4e-06], [2, 1, 0, 1, 2e-06], [1, 3, 1, 1, 2e-06], [5, 1, 0, 1, 0.000444], [3, 1, 1, 1, 8e-06], [5, 3, 2, 3, 8.1e-05], [1, 1, 0, 2, 2e-06], [5, 2, 2, 1, 0.000213], [3, 3, 2, 3, 4e-06], [1, 3, 2, 0, 3e-06], [3, 3, 0, 3, 2e-06], [2, 2, 2, 3, 2e-06], [4, 3, 1, 3, 3.2e-05], [1, 3, 2, 1, 1e-06], [3, 2, 0, 1, 6e-06], [2, 2, 2, 1, 1e-06], [1, 3, 2, 3, 0.0], [2, 3, 2, 3, 2e-06], [1, 1, 2, 2, 2e-06], [2, 1, 2, 2, 1e-06], [3, 1, 1, 2, 5e-06], [2, 2, 1, 1, 3e-06], [3, 3, 0, 0, 1.9e-05], [1, 2, 0, 1, 1e-06], [1, 3, 0, 1, 2e-06], [3, 1, 2, 0, 9e-06], [2, 1, 1, 0, 1e-06], [5, 3, 1, 0, 0.000191], [3, 2, 1, 2, 3e-06], [2, 3, 2, 1, 3e-06], [3, 1, 0, 3, 1e-06], [2, 2, 0, 2, 1e-06], [2, 2, 2, 0, 5e-06], [2, 2, 0, 3, 1e-06], [3, 2, 2, 2, 3e-06], [5, 3, 0, 3, 0.000121], [2, 1, 2, 1, 2e-06], [2, 1, 2, 3, 2e-06], [4, 2, 0, 2, 2.1e-05], [5, 3, 1, 3, 0.000254], [2, 3, 1, 1, 3e-06], [4, 3, 2, 1, 4.6e-05], [5, 2, 0, 2, 9.8e-05], [4, 2, 1, 3, 3.1e-05], [1, 1, 1, 0, 1e-06], [3, 3, 1, 3, 5e-06], [2, 3, 1, 2, 1e-06], [2, 1, 1, 3, 1e-06], [2, 1, 1, 1, 3e-06], [1, 2, 0, 2, 1e-06], [4, 3, 2, 3, 2.6e-05], [5, 2, 0, 3, 0.000127], [1, 3, 1, 2, 3e-06], [1, 1, 2, 0, 3e-06], [5, 3, 0, 1, 0.000224], [1, 3, 0, 3, 1e-06], [1, 1, 2, 1, 1e-06], [4, 1, 1, 1, 5.2e-05], [2, 3, 2, 0, 7e-06], [2, 2, 0, 1, 2e-06], [1, 2, 2, 0, 2e-06], [5, 1, 0, 0, 0.00014], [4, 3, 1, 2, 2.6e-05], [2, 1, 0, 0, 4e-06], [2, 1, 1, 2, 3e-06], [5, 2, 1, 0, 0.000224], [5, 3, 2, 2, 0.000149], [4, 3, 1, 1, 4.3e-05], [4, 3, 0, 1, 4.6e-05], [4, 2, 1, 0, 2.6e-05], [5, 1, 1, 1, 0.000157], [5, 3, 2, 0, 0.000343], [5, 2, 1, 2, 0.00027], [3, 3, 0, 1, 4e-06], [2, 1, 0, 2, 2e-06], [3, 2, 1, 0, 4e-06], [1, 3, 0, 2, 1e-06], [1, 1, 1, 3, 1e-06], [5, 2, 0, 0, 0.000207], [4, 1, 0, 0, 6.1e-05], [1, 2, 2, 2, 1e-06], [4, 2, 1, 2, 2.9e-05], [2, 3, 1, 3, 2e-06]]\n",
      "     pow  iteration  dtype  optimization   seconds\n",
      "0      4          3      2             2  0.000017\n",
      "1      4          2      0             0  0.000041\n",
      "2      5          1      1             2  0.000191\n",
      "3      1          1      0             1  0.000001\n",
      "4      2          3      0             1  0.000002\n",
      "..   ...        ...    ...           ...       ...\n",
      "175    5          2      0             0  0.000207\n",
      "176    4          1      0             0  0.000061\n",
      "177    1          2      2             2  0.000001\n",
      "178    4          2      1             2  0.000029\n",
      "179    2          3      1             3  0.000002\n",
      "\n",
      "[180 rows x 5 columns]\n"
     ]
    }
   ],
   "source": [
    "import pandas as pd\n",
    "paths= file_paths(\"Homework_runs/\")\n",
    "properties_list = []\n",
    "for path in paths:\n",
    "    with open(path) as file:\n",
    "        pow,iter,dtype,optimization = file_properties(path)\n",
    "        str = file.read()\n",
    "        seconds = file_reader(str)\n",
    "        properties_list.append([pow,iter,dtype,optimization,seconds])\n",
    "print(properties_list)\n",
    "df = pd.DataFrame(properties_list,columns=[\"pow\",\"iteration\",\"dtype\",\"optimization\",\"seconds\"])\n",
    "print(df)"
   ]
  },
  {
   "cell_type": "code",
   "execution_count": 7,
   "metadata": {},
   "outputs": [
    {
     "name": "stdout",
     "output_type": "stream",
     "text": [
      "5\n"
     ]
    }
   ],
   "source": [
    "max_pow = int(df['pow'].max())\n",
    "print(max_pow)"
   ]
  },
  {
   "cell_type": "code",
   "execution_count": 17,
   "metadata": {},
   "outputs": [
    {
     "name": "stdout",
     "output_type": "stream",
     "text": [
      "0\n"
     ]
    },
    {
     "ename": "AttributeError",
     "evalue": "'NoneType' object has no attribute 'append'",
     "output_type": "error",
     "traceback": [
      "\u001b[0;31m---------------------------------------------------------------------------\u001b[0m",
      "\u001b[0;31mAttributeError\u001b[0m                            Traceback (most recent call last)",
      "Cell \u001b[0;32mIn[17], line 13\u001b[0m\n\u001b[1;32m     11\u001b[0m \u001b[38;5;28;01mfor\u001b[39;00m x \u001b[38;5;129;01min\u001b[39;00m number_list:\n\u001b[1;32m     12\u001b[0m     \u001b[38;5;28mprint\u001b[39m(dt)\n\u001b[0;32m---> 13\u001b[0m     \u001b[43mlist_of_y\u001b[49m\u001b[43m[\u001b[49m\u001b[43mo\u001b[49m\u001b[43m]\u001b[49m\u001b[43m[\u001b[49m\u001b[43mdt\u001b[49m\u001b[43m]\u001b[49m\u001b[38;5;241;43m.\u001b[39;49m\u001b[43mappend\u001b[49m\u001b[43m(\u001b[49m\u001b[43m[\u001b[49m\u001b[43m]\u001b[49m\u001b[43m)\u001b[49m\u001b[38;5;241;43m.\u001b[39;49m\u001b[43mappend\u001b[49m([])\u001b[38;5;241m.\u001b[39mappend([])\n\u001b[1;32m     14\u001b[0m     max_y \u001b[38;5;241m=\u001b[39m df\u001b[38;5;241m.\u001b[39mquery(\u001b[38;5;124mf\u001b[39m\u001b[38;5;124m'\u001b[39m\u001b[38;5;124mpow == \u001b[39m\u001b[38;5;132;01m{\u001b[39;00mx\u001b[38;5;132;01m}\u001b[39;00m\u001b[38;5;124m and dtype==\u001b[39m\u001b[38;5;132;01m{\u001b[39;00mdt\u001b[38;5;132;01m}\u001b[39;00m\u001b[38;5;124m and optimization==\u001b[39m\u001b[38;5;132;01m{\u001b[39;00mo\u001b[38;5;132;01m}\u001b[39;00m\u001b[38;5;124m'\u001b[39m)[\u001b[38;5;124m\"\u001b[39m\u001b[38;5;124mseconds\u001b[39m\u001b[38;5;124m\"\u001b[39m]\u001b[38;5;241m.\u001b[39mmax()\n\u001b[1;32m     15\u001b[0m     list_of_y[o][dt][\u001b[38;5;241m0\u001b[39m]\u001b[38;5;241m.\u001b[39mappend(max_y)\n",
      "\u001b[0;31mAttributeError\u001b[0m: 'NoneType' object has no attribute 'append'"
     ]
    }
   ],
   "source": [
    "list_of_y = []\n",
    "\n",
    "\n",
    "number_list=range(0,max_pow-1)\n",
    "type_list= range(0,2)\n",
    "optimization_list = range(0,3)\n",
    "for o in optimization_list:\n",
    "    list_of_y.append([])\n",
    "    for dt in type_list:\n",
    "        list_of_y[o].append([])\n",
    "        for x in number_list:\n",
    "            print(x)\n",
    "            list_of_y[o][dt].append([]).append([]).append([])\n",
    "            max_y = df.query(f'pow == {x} and dtype=={dt} and optimization=={o}')[\"seconds\"].max()\n",
    "            list_of_y[o][dt][0].append(max_y)\n",
    "            min_y = df.query(f'pow == {x} and dtype=={dt} and optimization=={o}')[\"seconds\"].min()\n",
    "            list_of_y[o][dt][1].append(min_y)\n",
    "            list_of_y[o][dt][2].append((max_y+min_y)/2)"
   ]
  },
  {
   "cell_type": "code",
   "execution_count": 10,
   "metadata": {},
   "outputs": [
    {
     "data": {
      "image/png": "[encoded data removed]",
      "text/plain": [
       "<Figure size 640x480 with 1 Axes>"
      ]
     },
     "metadata": {},
     "output_type": "display_data"
    }
   ],
   "source": [
    "import matplotlib.pyplot as plt\n",
    "# plot\n",
    "fig, ax = plt.subplots()\n",
    "\n",
    "ax.fill_between(number_list,down_y, up_y,  alpha=.7, linewidth=0,color=\"crimson\")\n",
    "ax.plot(number_list, mid_y, linewidth=1)\n",
    "\n",
    "\n",
    "plt.show()"
   ]
  },
  {
   "cell_type": "code",
   "execution_count": null,
   "metadata": {},
   "outputs": [],
   "source": []
  }
 ],
 "metadata": {
  "kernelspec": {
   "display_name": ".venv",
   "language": "python",
   "name": "python3"
  },
  "language_info": {
   "codemirror_mode": {
    "name": "ipython",
    "version": 3
   },
   "file_extension": ".py",
   "mimetype": "text/x-python",
   "name": "python",
   "nbconvert_exporter": "python",
   "pygments_lexer": "ipython3",
   "version": "3.10.12"
  }
 },
 "nbformat": 4,
 "nbformat_minor": 2
}
